{
 "cells": [
  {
   "cell_type": "markdown",
   "metadata": {},
   "source": [
    "# Задание\n",
    "1. https://docs.opencv.org/3.4/d9/d61/tutorial_py_morphological_ops.html\n",
    "\n",
    "2. https://docs.opencv.org/4.x/dd/dd7/tutorial_morph_lines_detection.html\n",
    "\n",
    "Здесь не нужно устанавливать библиотеку pytesseract так же удалить её использование из кода\n",
    "\n",
    "3. https://ajlearn.net/opencv_textline_extraction_recognition"
   ]
  },
  {
   "cell_type": "code",
   "execution_count": 2,
   "metadata": {},
   "outputs": [],
   "source": [
    "import numpy as np\n",
    "import cv2 as cv\n",
    "from matplotlib import pyplot as plt"
   ]
  },
  {
   "cell_type": "markdown",
   "metadata": {},
   "source": [
    "# pt1"
   ]
  },
  {
   "cell_type": "code",
   "execution_count": 3,
   "metadata": {},
   "outputs": [],
   "source": [
    "def snow_image(img):\n",
    "    cv.imshow('img', img) # выводим итоговое изображение в окно\n",
    "\n",
    "    cv.waitKey()\n",
    "    cv.destroyAllWindows()    \n",
    "    \n",
    "def sravnenie(img1, img2):\n",
    "    combined_image = np.hstack((img1, img2))\n",
    "    cv.imshow('img', combined_image) # выводим итоговое изображение в окно\n",
    "\n",
    "    cv.waitKey()\n",
    "    cv.destroyAllWindows()"
   ]
  },
  {
   "cell_type": "code",
   "execution_count": 4,
   "metadata": {},
   "outputs": [],
   "source": [
    "img = cv.imread('resources/image.png', cv.IMREAD_GRAYSCALE)\n",
    "assert img is not None, \"file could not be read, check with os.path.exists()\"\n",
    "kernel = np.ones((5,5),np.uint8)\n",
    "erosion = cv.erode(img,kernel,iterations = 1)\n",
    "combined_image = np.hstack((img, erosion))\n",
    "cv.imshow('img', combined_image) \n",
    "            \n",
    "cv.waitKey()\n",
    "cv.destroyAllWindows()"
   ]
  },
  {
   "cell_type": "code",
   "execution_count": 5,
   "metadata": {},
   "outputs": [],
   "source": [
    "dilation = cv.dilate(img,kernel,iterations = 1)\n",
    "combined_image = np.hstack((img, dilation))\n",
    "cv.imshow('img', combined_image) \n",
    "            \n",
    "cv.waitKey()\n",
    "cv.destroyAllWindows()"
   ]
  },
  {
   "cell_type": "code",
   "execution_count": 6,
   "metadata": {},
   "outputs": [],
   "source": [
    "opening = cv.morphologyEx(img, cv.MORPH_OPEN, kernel)\n",
    "combined_image = np.hstack((img, opening))\n",
    "cv.imshow('img', combined_image) \n",
    "            \n",
    "cv.waitKey()\n",
    "cv.destroyAllWindows()"
   ]
  },
  {
   "cell_type": "code",
   "execution_count": 18,
   "metadata": {},
   "outputs": [],
   "source": [
    "img3 = cv.imread('resources/lab5/img3.png', cv.IMREAD_GRAYSCALE)\n",
    "assert img is not None, \"file could not be read, check with os.path.exists()\"\n",
    "kernel3 = np.ones((5,5),np.uint8)\n",
    "erosion3 = cv.erode(img3,kernel3,iterations = 1)\n",
    "\n",
    "opening = cv.morphologyEx(img3, cv.MORPH_OPEN, kernel3)\n",
    "sravnenie(img3, opening)"
   ]
  },
  {
   "cell_type": "code",
   "execution_count": null,
   "metadata": {},
   "outputs": [],
   "source": [
    "img4 = cv.imread('resources/lab5/img4.png', cv.IMREAD_GRAYSCALE)\n",
    "\n",
    "closing = cv.morphologyEx(img4, cv.MORPH_CLOSE, kernel)\n",
    "sravnenie(img4, opening)"
   ]
  },
  {
   "cell_type": "code",
   "execution_count": null,
   "metadata": {},
   "outputs": [],
   "source": [
    "gradient = cv.morphologyEx(img, cv.MORPH_GRADIENT, kernel)\n",
    "sravnenie(img, gradient)"
   ]
  },
  {
   "cell_type": "code",
   "execution_count": null,
   "metadata": {},
   "outputs": [],
   "source": [
    "tophat = cv.morphologyEx(img, cv.MORPH_TOPHAT, kernel)\n",
    "sravnenie(img, tophat)\n"
   ]
  },
  {
   "cell_type": "code",
   "execution_count": 19,
   "metadata": {},
   "outputs": [],
   "source": [
    "blackhat = cv.morphologyEx(img, cv.MORPH_BLACKHAT, kernel)\n",
    "sravnenie(img, blackhat)\n"
   ]
  },
  {
   "cell_type": "markdown",
   "metadata": {},
   "source": [
    "# pt2"
   ]
  },
  {
   "cell_type": "code",
   "execution_count": 21,
   "metadata": {},
   "outputs": [],
   "source": [
    "img = cv.imread('resources/lab5/src.png', cv.IMREAD_GRAYSCALE)\n",
    "assert img is not None, \"file could not be read, check with os.path.exists()\"\n"
   ]
  },
  {
   "cell_type": "code",
   "execution_count": 22,
   "metadata": {},
   "outputs": [],
   "source": [
    "def snow_image(title, img):\n",
    "    cv.imshow(title, img) # выводим итоговое изображение в окно\n",
    "\n",
    "    cv.waitKey()\n",
    "    cv.destroyAllWindows()    "
   ]
  },
  {
   "cell_type": "code",
   "execution_count": 37,
   "metadata": {},
   "outputs": [],
   "source": [
    "# Transform source image to gray if it is not already\n",
    "if len(img.shape) != 2:\n",
    "    gray = cv.cvtColor(img, cv.COLOR_BGR2GRAY)\n",
    "else:\n",
    "    gray = img\n",
    " \n",
    "    # Show gray image\n",
    "snow_image(\"gray\", gray)"
   ]
  },
  {
   "cell_type": "code",
   "execution_count": 39,
   "metadata": {},
   "outputs": [],
   "source": [
    "# Apply adaptiveThreshold at the bitwise_not of gray, notice the ~ symbol\n",
    "gray = cv.bitwise_not(gray)\n",
    "bw = cv.adaptiveThreshold(gray, 255, cv.ADAPTIVE_THRESH_MEAN_C, cv.THRESH_BINARY, 15, -2)\n",
    "# Show binary image\n",
    "snow_image(\"binary\", bw)"
   ]
  },
  {
   "cell_type": "code",
   "execution_count": 31,
   "metadata": {},
   "outputs": [],
   "source": [
    "horizontal = np.copy(bw)\n",
    "vertical = np.copy(bw)"
   ]
  },
  {
   "cell_type": "code",
   "execution_count": 42,
   "metadata": {},
   "outputs": [],
   "source": [
    "# Specify size on horizontal axis\n",
    "cols = horizontal.shape[1]\n",
    "horizontal_size = cols // 30\n",
    "\n",
    "# Create structure element for extracting horizontal lines through morphology operations\n",
    "horizontalStructure = cv.getStructuringElement(cv.MORPH_RECT, (horizontal_size, 1))\n",
    "\n",
    "# Apply morphology operations\n",
    "horizontal = cv.erode(horizontal, horizontalStructure)\n",
    "horizontal = cv.dilate(horizontal, horizontalStructure)\n",
    "\n",
    "# Show extracted horizontal lines\n",
    "snow_image(\"horizontal\", horizontal)"
   ]
  },
  {
   "cell_type": "code",
   "execution_count": 43,
   "metadata": {},
   "outputs": [],
   "source": [
    " # Specify size on vertical axis\n",
    "rows = vertical.shape[0]\n",
    "verticalsize = rows // 30\n",
    "\n",
    "# Create structure element for extracting vertical lines through morphology operations\n",
    "verticalStructure = cv.getStructuringElement(cv.MORPH_RECT, (1, verticalsize))\n",
    "\n",
    "# Apply morphology operations\n",
    "vertical = cv.erode(vertical, verticalStructure)\n",
    "vertical = cv.dilate(vertical, verticalStructure)\n",
    "\n",
    "# Show extracted vertical lines\n",
    "snow_image(\"vertical\", vertical)"
   ]
  },
  {
   "cell_type": "code",
   "execution_count": 44,
   "metadata": {},
   "outputs": [],
   "source": [
    "# Inverse vertical image\n",
    "vertical = cv.bitwise_not(vertical)\n",
    "snow_image(\"vertical_bit\", vertical)\n",
    " \n",
    "'''\n",
    "    Extract edges and smooth image according to the logic\n",
    "    1. extract edges\n",
    "    2. dilate(edges)\n",
    "    3. src.copyTo(smooth)\n",
    "    4. blur smooth img\n",
    "    5. smooth.copyTo(src, edges)\n",
    "'''\n",
    " \n",
    "# Step 1\n",
    "edges = cv.adaptiveThreshold(vertical, 255, cv.ADAPTIVE_THRESH_MEAN_C, \\\n",
    "                                cv.THRESH_BINARY, 3, -2)\n",
    "snow_image(\"edges\", edges)\n",
    " \n",
    "# Step 2\n",
    "kernel = np.ones((2, 2), np.uint8)\n",
    "edges = cv.dilate(edges, kernel)\n",
    "snow_image(\"dilate\", edges)\n",
    " \n",
    "# Step 3\n",
    "smooth = np.copy(vertical)\n",
    " \n",
    "# Step 4\n",
    "smooth = cv.blur(smooth, (2, 2))\n",
    " \n",
    "# Step 5\n",
    "(rows, cols) = np.where(edges != 0)\n",
    "vertical[rows, cols] = smooth[rows, cols]\n",
    " \n",
    "# Show final result\n",
    "snow_image(\"smooth - final\", vertical)"
   ]
  },
  {
   "cell_type": "markdown",
   "metadata": {},
   "source": [
    "# pt3"
   ]
  },
  {
   "cell_type": "code",
   "execution_count": 48,
   "metadata": {},
   "outputs": [
    {
     "data": {
      "text/plain": [
       "True"
      ]
     },
     "execution_count": 48,
     "metadata": {},
     "output_type": "execute_result"
    }
   ],
   "source": [
    "import cv2\n",
    "\n",
    "import numpy as np\n",
    "# Step 1: Load the image\n",
    "image_path = r'resources/lab5/text_mask_eng.png'\n",
    "image = cv2.imread(image_path)\n",
    "\n",
    "# Check if the image is None\n",
    "if image is None:\n",
    "    raise ValueError(\"Invalid image file or path.\")\n",
    "    \n",
    "# Step 2: Preprocess the image\n",
    "gray = cv2.cvtColor(image, cv2.COLOR_BGR2GRAY)\n",
    "blur = cv2.GaussianBlur(gray, (3, 3), 0)\n",
    "bw = cv2.threshold(blur, 0, 255, cv2.THRESH_BINARY_INV + cv2.THRESH_OTSU)[1]\n",
    "\n",
    "# selected a kernel with more width so that we want to connect lines\n",
    "kernel_size = (15, 1) \n",
    "kernel = cv2.getStructuringElement(cv2.MORPH_RECT, kernel_size)\n",
    "\n",
    "# Step 3: Perform the closing operation: Dilate and then close\n",
    "bw_closed = cv2.morphologyEx(bw, cv2.MORPH_CLOSE, kernel)\n",
    "\n",
    "# Find contours for each text line\n",
    "contours, _ = cv2.findContours(bw_closed, cv2.RETR_EXTERNAL, cv2.CHAIN_APPROX_SIMPLE)\n",
    "\n",
    "# Filter contours to select those whose width is at least 3 times its height\n",
    "filtered_contours = [cnt for cnt in contours if (cv2.boundingRect(cnt)[2] / cv2.boundingRect(cnt)[3])>=3.0]\n",
    "\n",
    "# Sort contours based on y-coordinate\n",
    "sorted_contours = sorted(filtered_contours, key=lambda contour: cv2.boundingRect(contour)[1])\n",
    "\n",
    "padding=3\n",
    "for contour in sorted_contours:\n",
    "    x, y, w, h = cv2.boundingRect(contour)\n",
    "    x, y, w, h = (x-padding, y-padding, w+padding, h+padding) \n",
    "    cv2.rectangle(image, (x, y), (x + w, y + h), (0, 255, 0), 2)\n",
    "    # Recognize each line. Crop the image for each line and pass to OCR engine.\n",
    "    line_image = image[y:y + h, x:x+w]\n",
    "\n",
    "#     print(line_text)\n",
    "\n",
    "cv2.imshow('Text Lines', image)\n",
    "cv2.waitKey(0)\n",
    "cv2.destroyAllWindows()\n",
    "cv2.imwrite('resources/lab5/opencv_detect_text_lines.jpg',image)"
   ]
  },
  {
   "cell_type": "code",
   "execution_count": null,
   "metadata": {},
   "outputs": [],
   "source": []
  }
 ],
 "metadata": {
  "kernelspec": {
   "display_name": "Python 3",
   "language": "python",
   "name": "python3"
  },
  "language_info": {
   "codemirror_mode": {
    "name": "ipython",
    "version": 3
   },
   "file_extension": ".py",
   "mimetype": "text/x-python",
   "name": "python",
   "nbconvert_exporter": "python",
   "pygments_lexer": "ipython3",
   "version": "3.11.0"
  }
 },
 "nbformat": 4,
 "nbformat_minor": 2
}
