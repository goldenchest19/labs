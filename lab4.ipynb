{
 "cells": [
  {
   "cell_type": "markdown",
   "metadata": {},
   "source": [
    "# Задание\n",
    "1. https://docs.opencv.org/3.4/d1/d32/tutorial_py_contour_properties.html\n",
    "\n",
    "2. https://docs.opencv.org/3.4/d5/d45/tutorial_py_contours_more_functions.html\n",
    "\n",
    "3. https://docs.opencv.org/3.4/d4/dc6/tutorial_py_template_matching.html"
   ]
  },
  {
   "cell_type": "code",
   "execution_count": null,
   "metadata": {},
   "outputs": [],
   "source": []
  },
  {
   "cell_type": "markdown",
   "metadata": {},
   "source": []
  }
 ],
 "metadata": {
  "language_info": {
   "name": "python"
  }
 },
 "nbformat": 4,
 "nbformat_minor": 2
}
